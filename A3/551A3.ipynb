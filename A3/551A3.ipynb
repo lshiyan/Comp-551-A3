{
 "cells": [
  {
   "cell_type": "code",
   "execution_count": 1,
   "metadata": {},
   "outputs": [],
   "source": [
    "import pandas as pd\n",
    "import pickle\n",
    "df = pd.read_pickle(\"merged_training.pkl\")"
   ]
  },
  {
   "cell_type": "code",
   "execution_count": 3,
   "metadata": {},
   "outputs": [
    {
     "name": "stdout",
     "output_type": "stream",
     "text": [
      "                                                     text emotions\n",
      "27383   i feel awful about it too because it s my job ...  sadness\n",
      "110083                              im alone i feel awful  sadness\n",
      "140764  ive probably mentioned this before but i reall...      joy\n",
      "100071           i was feeling a little low few days back  sadness\n",
      "2837    i beleive that i am much more sensitive to oth...     love\n",
      "...                                                   ...      ...\n",
      "566     that was what i felt when i was finally accept...      joy\n",
      "36236   i take every day as it comes i m just focussin...     fear\n",
      "76229       i just suddenly feel that everything was fake  sadness\n",
      "131640  im feeling more eager than ever to claw back w...      joy\n",
      "64703   i give you plenty of attention even when i fee...  sadness\n",
      "\n",
      "[416809 rows x 2 columns]\n"
     ]
    }
   ],
   "source": [
    "print(df)"
   ]
  }
 ],
 "metadata": {
  "kernelspec": {
   "display_name": "Python 3",
   "language": "python",
   "name": "python3"
  },
  "language_info": {
   "codemirror_mode": {
    "name": "ipython",
    "version": 3
   },
   "file_extension": ".py",
   "mimetype": "text/x-python",
   "name": "python",
   "nbconvert_exporter": "python",
   "pygments_lexer": "ipython3",
   "version": "3.11.5"
  }
 },
 "nbformat": 4,
 "nbformat_minor": 2
}
